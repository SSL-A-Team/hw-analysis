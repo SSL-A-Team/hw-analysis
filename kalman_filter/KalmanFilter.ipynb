{
 "cells": [
  {
   "cell_type": "code",
   "execution_count": 2,
   "id": "0de1fcd4",
   "metadata": {},
   "outputs": [],
   "source": [
    "import numpy as np\n",
    "from numpy.linalg import inv"
   ]
  },
  {
   "attachments": {},
   "cell_type": "markdown",
   "id": "bb2a29b8",
   "metadata": {},
   "source": []
  },
  {
   "attachments": {},
   "cell_type": "markdown",
   "id": "2d05891a",
   "metadata": {},
   "source": [
    "# Linear Dynamics\n",
    "$$\\dot{x} = A\\vec{x} + B\\vec{u} \\\\\n",
    " \\vec{y} = C\\vec{x}$$"
   ]
  },
  {
   "attachments": {},
   "cell_type": "markdown",
   "id": "61e6383e",
   "metadata": {},
   "source": [
    "$\\vec{x}$ is the state variables. $v_{x}, v_{y}$ is world linear velocity of the robot in m/s, $\\omega$ is the angular velocity of the robot around the z-axis in rad/s.\n",
    "$$\n",
    "\\vec{x} = \\begin{bmatrix}\n",
    "v_{x} \\\\ \n",
    "v_{y} \\\\\n",
    "\\omega_{z}\n",
    "\\end{bmatrix}\n",
    "$$"
   ]
  },
  {
   "attachments": {},
   "cell_type": "markdown",
   "id": "182a0a10",
   "metadata": {},
   "source": [
    "$\\vec{u}$ is the input vector. $\\omega_{iFL}, \\omega_{iFR}, \\omega_{iBL}, \\omega_{iBR}$ is commanded angular velocity of the front left, front right, back left, back right wheels of the robot (will refer to those positions for the remainder).\n",
    "$$\n",
    "\\vec{u} = \\begin{bmatrix}\n",
    "\\omega_{iFL} \\\\\n",
    "\\omega_{iFR} \\\\\n",
    "\\omega_{iBL} \\\\\n",
    "\\omega_{iBR}\n",
    "\\end{bmatrix}\n",
    "$$"
   ]
  },
  {
   "attachments": {},
   "cell_type": "markdown",
   "id": "646063b6",
   "metadata": {},
   "source": [
    "$\\vec{y}$ is the measured observation vector. $\\omega_{oFL},\\omega_{oFR},\\omega_{oBL},\\omega_{oBR}$ is the angular wheel velocity for wheels of the robot in rad/s. $\\omega_{gyro}$ is the angular velocity of the robot measured by the gyro in rad/s.\n",
    "\n",
    "$$\n",
    "\\vec{y} = \\begin{bmatrix}\n",
    "\\omega_{oFL} \\\\\n",
    "\\omega_{oFR} \\\\\n",
    "\\omega_{oBL} \\\\\n",
    "\\omega_{oBR} \\\\\n",
    "\\omega_{\\text{gyro}}\n",
    "\\end{bmatrix}\n",
    "$$"
   ]
  },
  {
   "attachments": {},
   "cell_type": "markdown",
   "id": "6b682a09",
   "metadata": {},
   "source": [
    "## Bot to Wheel Conversion"
   ]
  },
  {
   "attachments": {},
   "cell_type": "markdown",
   "id": "e1a4f0da",
   "metadata": {},
   "source": [
    "We need to make a transformation from the robot reference frame to the wheel reference frame\n",
    "$r_{FL}, r_{FR}, r_{BL}, r_{BR}$ is the wheel radius in m.\n",
    "\n",
    "$\\theta_{FL}, \\theta_{FR}, \\theta_{BL}, \\theta_{BR}$ is the angle offset from the center in rads.\n",
    "\n",
    "$l_{FL}, l_{FR}, l_{BL}, l_{BR}$ is the distance to center in m.\n",
    "\n",
    "$$\n",
    "    \\textbf{T}_{Wheel} = \n",
    "    \\begin{bmatrix}\n",
    "        sin(\\theta_{FL})/r_{FL} & -cos(\\theta_{FL})/r_{FL} & -l_{FL}/r_{FL} \\\\\n",
    "        sin(\\theta_{FR})/r_{FR} & -cos(\\theta_{FR})/r_{FR} & -l_{FR}/r_{FR} \\\\\n",
    "        sin(\\theta_{BL})/r_{BL} & -cos(\\theta_{BL})/r_{BL} & -l_{BL}/r_{BL} \\\\\n",
    "        sin(\\theta_{BR})/r_{BR} & -cos(\\theta_{BR})/r_{BR} & -l_{BR}/r_{BR} \\\\\n",
    "    \\end{bmatrix}\n",
    "$$"
   ]
  },
  {
   "cell_type": "code",
   "execution_count": 3,
   "id": "da370f4d",
   "metadata": {},
   "outputs": [
    {
     "name": "stdout",
     "output_type": "stream",
     "text": [
      "[[ 20.40816327  35.34797566   3.46938776]\n",
      " [ 20.40816327 -35.34797566   3.46938776]\n",
      " [-28.86150127 -28.86150127   3.46938776]\n",
      " [-28.86150127  28.86150127   3.46938776]]\n"
     ]
    }
   ],
   "source": [
    "r = np.full((4,1),0.0245)\n",
    "theta_deg = np.array([[30, 150, 225, 315]]).T\n",
    "theta_rads = np.radians(theta_deg)\n",
    "l = np.full((4,1),0.085)\n",
    "T_wheel =  -1/r * -np.concatenate((np.sin(theta_rads), np.cos(theta_rads), l), axis = 1) \n",
    "print(T_wheel)"
   ]
  },
  {
   "attachments": {},
   "cell_type": "markdown",
   "id": "1fbe5420",
   "metadata": {},
   "source": [
    "## Wheel to Bot Conversion"
   ]
  },
  {
   "attachments": {},
   "cell_type": "markdown",
   "id": "96fc041d",
   "metadata": {},
   "source": [
    "Pseudo-inverse of $T_{Wheel}$ is the $T_{Bot}$\n",
    "$$\n",
    "    \\textbf{T}_{Bot} = \\textbf{T}^{\\dagger}_{Wheel}\n",
    "$$"
   ]
  },
  {
   "cell_type": "code",
   "execution_count": 4,
   "id": "73ee47b1",
   "metadata": {},
   "outputs": [
    {
     "name": "stdout",
     "output_type": "stream",
     "text": [
      "[[ 0.01014823  0.01014823 -0.01014823 -0.01014823]\n",
      " [ 0.00848705 -0.00848705 -0.00692965  0.00692965]\n",
      " [ 0.08442216  0.08442216  0.05969548  0.05969548]]\n"
     ]
    }
   ],
   "source": [
    "T_bot = np.linalg.pinv(T_wheel)\n",
    "print(T_bot)"
   ]
  },
  {
   "attachments": {},
   "cell_type": "markdown",
   "id": "61d7f820",
   "metadata": {},
   "source": [
    "## Robot Velocity to Wheel Velocity Example"
   ]
  },
  {
   "cell_type": "code",
   "execution_count": 5,
   "id": "10f7fe5f",
   "metadata": {},
   "outputs": [
    {
     "name": "stdout",
     "output_type": "stream",
     "text": [
      "[[ 20.40816327  35.34797566   0.        ]\n",
      " [ 20.40816327 -35.34797566   0.        ]\n",
      " [-28.86150127 -28.86150127   0.        ]\n",
      " [-28.86150127  28.86150127   0.        ]]\n"
     ]
    }
   ],
   "source": [
    "v_example = np.array([1, 1, 0]).T\n",
    "v_wheel_example = T_wheel*v_example\n",
    "print(v_wheel_example)"
   ]
  },
  {
   "attachments": {},
   "cell_type": "markdown",
   "id": "d1cbf8aa",
   "metadata": {},
   "source": [
    "# Kalman Filter"
   ]
  },
  {
   "cell_type": "code",
   "execution_count": 6,
   "id": "a592e2d6",
   "metadata": {},
   "outputs": [
    {
     "name": "stdout",
     "output_type": "stream",
     "text": [
      "0.11868238913561441\n",
      "0.002443460952792061\n"
     ]
    }
   ],
   "source": [
    "process_noise = 0.05 # State noise for unmodeled influences, TODO unclear where is comes from\n",
    "encoder_sampling_freq = 100 # Hz\n",
    "encoder_noise_rads = np.radians(0.068) # rads for AS5047P encoder RMS output noise (1 sigma)\n",
    "encoder_noise = encoder_noise_rads/(1/encoder_sampling_freq) # rads/s TODO unclear if this is valid\n",
    "gryo_noise_noise_density = 0.014  # deg/s/√Hz for BMI085 Noise density (typ.)\n",
    "gyro_sampling_freq = 100 # Hz\n",
    "gyro_noise = np.radians(gryo_noise_noise_density) * np.sqrt(gyro_sampling_freq) # in rad/s\n",
    "\n",
    "intial_covariance = 0.1 # Picked at random TODO\n",
    "\n",
    "print(encoder_noise)\n",
    "print(gyro_noise)"
   ]
  },
  {
   "attachments": {},
   "cell_type": "markdown",
   "id": "ed256401",
   "metadata": {},
   "source": [
    "Code below taken from RoboRacing-firmware (written by Peter Wilson)"
   ]
  },
  {
   "cell_type": "code",
   "execution_count": null,
   "id": "08c0ca56",
   "metadata": {},
   "outputs": [],
   "source": [
    "dt = 5e-5  #Timestep\n",
    "end_time = 10 # s\n",
    "\n",
    "#Define controller parameters (so we can tweak them)\n",
    "controller_loop_time = 5e-3   #How frequently (in s) the controller runs\n",
    "\n",
    "#Define data logging arrays\n",
    "times, dt = np.linspace(0, end_time, num = round(end_time/dt), retstep=True)  #array of times\n",
    "actual_state_arr = np.zeros(3,1,len(times)) # x_k -> [v_x, v_y, Omega]\n",
    "estimated_state_arr = np.zeros(len(times)) # \\hat{x}\n",
    "target_state = [1,1,0]\n",
    "command_input_arr = np.zeros(4,1,len(times)) # x_k -> [omega_ifl, omega_ifr, omega_ibl, omega_ibr]\n",
    "measured_state_arr = np.zeros(5,1,len(times)) # x_k -> [omega_ofl, omega_ofr, omega_obl, omega_obr, ]\n",
    "\n",
    "#Now write the simulation code\n",
    "command_wheel_velocities = [0,0,0,0]\n",
    "last_controller_execution = 0\n",
    "last_encoder_speed_calc_time = 0\n",
    "car_true_vel = start_velocity\n",
    "encoder_est_speed = 0\n",
    "\n",
    "for i in range(len(times)):\n",
    "    time = times[i]\n",
    "    \n",
    "    #Find software's current vel\n",
    "    software_vel_cmd = get_software_vel(time)\n",
    "    \n",
    "    #Execute the controller\n",
    "    if time - last_controller_execution > controller_loop_time:\n",
    "        timestep = time - last_controller_execution\n",
    "        \n",
    "        #estimate speed\n",
    "        current_reading = get_current_sensor_reading(true_motor_current)\n",
    "        encoder_est_speed = estimate_vel(timestep, current_reading, command_brakes, num_encoder_ticks_remembered_by_code)\n",
    "        num_encoder_ticks_remembered_by_code = 0\n",
    "        \n",
    "        #Get commands\n",
    "        command_voltage_brakes = gen_control_voltage_brake_force(timestep, encoder_est_speed, software_vel_cmd)\n",
    "        command_voltage = command_voltage_brakes.first\n",
    "        command_brakes = command_voltage_brakes.second\n",
    "        \n",
    "        if simulate_brake_update_rate:\n",
    "            if time - last_brake_cmd_send_time > time_between_brake_updates:\n",
    "                last_brake_cmd_send_time = time\n",
    "                sent_brake_command = command_brakes\n",
    "        else:\n",
    "            sent_brake_command = command_brakes\n",
    "        \n",
    "        last_controller_execution = time\n",
    "    \n",
    "    #Bound the control signals\n",
    "    true_voltage, true_motor_current = get_true_voltage_current(car_true_vel, command_voltage)\n",
    "    true_brake_force = get_true_braking_force(car_true_vel, sent_brake_command)\n",
    "    \n",
    "    #Car physics:\n",
    "    car_true_position += dt*car_true_vel\n",
    "    car_true_vel += dt*(-true_gamma_speed*car_true_vel + true_gamma_volt*true_voltage - true_gamma_brake*true_brake_force)\n",
    "    \n",
    "    #encoder callback interrupt fires\n",
    "    if total_num_encoder_ticks/magnets_per_m < car_true_position:\n",
    "        total_num_encoder_ticks += 1\n",
    "        num_encoder_ticks_remembered_by_code += 1\n",
    "    \n",
    "    #Now do the logs\n",
    "    vel_kart_arr[i] = car_true_vel\n",
    "    estimated_vel_arr[i] = get_speed()\n",
    "    filtered_vel_arr[i] = get_curr_target_speed()\n",
    "    software_command_velocities_at_timestep_arr[i] = software_vel_cmd\n",
    "    voltage_cmd_arr[i] = command_voltage\n",
    "    brake_cmd_arr[i] = command_brakes\n",
    "    voltage_realized_arr[i] = true_voltage\n",
    "    brake_realized_arr[i] = true_brake_force\n",
    "    motor_current_arr[i] = true_motor_current\n",
    "    error_integral_arr[i] = get_error_integral()"
   ]
  }
 ],
 "metadata": {
  "kernelspec": {
   "display_name": "Python 3 (ipykernel)",
   "language": "python",
   "name": "python3"
  },
  "language_info": {
   "codemirror_mode": {
    "name": "ipython",
    "version": 3
   },
   "file_extension": ".py",
   "mimetype": "text/x-python",
   "name": "python",
   "nbconvert_exporter": "python",
   "pygments_lexer": "ipython3",
   "version": "3.9.7"
  }
 },
 "nbformat": 4,
 "nbformat_minor": 5
}
