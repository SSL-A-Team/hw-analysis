{
 "cells": [
  {
   "cell_type": "code",
   "execution_count": 2,
   "id": "0de1fcd4",
   "metadata": {},
   "outputs": [],
   "source": [
    "import numpy as np\n",
    "from numpy.linalg import inv"
   ]
  },
  {
   "attachments": {},
   "cell_type": "markdown",
   "id": "bb2a29b8",
   "metadata": {},
   "source": []
  },
  {
   "attachments": {},
   "cell_type": "markdown",
   "id": "2d05891a",
   "metadata": {},
   "source": [
    "# Linear Dynamics\n",
    "$$\\dot{x} = A\\vec{x} + B\\vec{u} \\\\\n",
    " \\vec{y} = C\\vec{x}$$"
   ]
  },
  {
   "attachments": {},
   "cell_type": "markdown",
   "id": "61e6383e",
   "metadata": {},
   "source": [
    "$\\vec{x}$ is the state variables. $v_{x}, v_{y}$ is world linear velocity of the robot in m/s, $\\omega$ is the angular velocity of the robot around the z-axis in rad/s.\n",
    "$$\n",
    "\\vec{x} = \\begin{bmatrix}\n",
    "v_{x} \\\\ \n",
    "v_{y} \\\\\n",
    "\\omega_{z}\n",
    "\\end{bmatrix}\n",
    "$$"
   ]
  },
  {
   "attachments": {},
   "cell_type": "markdown",
   "id": "182a0a10",
   "metadata": {},
   "source": [
    "$\\vec{u}$ is the input vector. $\\omega_{iFL}, \\omega_{iFR}, \\omega_{iBL}, \\omega_{iBR}$ is commanded angular velocity of the front left, front right, back left, back right wheels of the robot (will refer to those positions for the remainder).\n",
    "$$\n",
    "\\vec{u} = \\begin{bmatrix}\n",
    "\\omega_{iFL} \\\\\n",
    "\\omega_{iFR} \\\\\n",
    "\\omega_{iBL} \\\\\n",
    "\\omega_{iBR}\n",
    "\\end{bmatrix}\n",
    "$$"
   ]
  },
  {
   "attachments": {},
   "cell_type": "markdown",
   "id": "646063b6",
   "metadata": {},
   "source": [
    "$\\vec{y}$ is the measured observation vector. $\\omega_{oFL},\\omega_{oFR},\\omega_{oBL},\\omega_{oBR}$ is the angular wheel velocity for wheels of the robot in rad/s. $\\omega_{gyro}$ is the angular velocity of the robot measured by the gyro in rad/s.\n",
    "\n",
    "$$\n",
    "\\vec{y} = \\begin{bmatrix}\n",
    "\\omega_{oFL} \\\\\n",
    "\\omega_{oFR} \\\\\n",
    "\\omega_{oBL} \\\\\n",
    "\\omega_{oBR} \\\\\n",
    "\\omega_{\\text{gyro}}\n",
    "\\end{bmatrix}\n",
    "$$"
   ]
  },
  {
   "attachments": {},
   "cell_type": "markdown",
   "id": "6b682a09",
   "metadata": {},
   "source": [
    "## Bot to Wheel Conversion"
   ]
  },
  {
   "attachments": {},
   "cell_type": "markdown",
   "id": "e1a4f0da",
   "metadata": {},
   "source": [
    "We need to make a transformation from the robot reference frame to the wheel reference frame\n",
    "$r_{FL}, r_{FR}, r_{BL}, r_{BR}$ is the wheel radius in m.\n",
    "\n",
    "$\\theta_{FL}, \\theta_{FR}, \\theta_{BL}, \\theta_{BR}$ is the angle offset from the center in rads.\n",
    "\n",
    "$l_{FL}, l_{FR}, l_{BL}, l_{BR}$ is the distance to center in m.\n",
    "\n",
    "$$\n",
    "    \\textbf{T}_{Wheel} = \n",
    "    \\begin{bmatrix}\n",
    "        sin(\\theta_{FL})/r_{FL} & -cos(\\theta_{FL})/r_{FL} & -l_{FL}/r_{FL} \\\\\n",
    "        sin(\\theta_{FR})/r_{FR} & -cos(\\theta_{FR})/r_{FR} & -l_{FR}/r_{FR} \\\\\n",
    "        sin(\\theta_{BL})/r_{BL} & -cos(\\theta_{BL})/r_{BL} & -l_{BL}/r_{BL} \\\\\n",
    "        sin(\\theta_{BR})/r_{BR} & -cos(\\theta_{BR})/r_{BR} & -l_{BR}/r_{BR} \\\\\n",
    "    \\end{bmatrix}\n",
    "$$"
   ]
  },
  {
   "cell_type": "code",
   "execution_count": 3,
   "id": "da370f4d",
   "metadata": {},
   "outputs": [
    {
     "name": "stdout",
     "output_type": "stream",
     "text": [
      "[[ 20.40816327  35.34797566   3.46938776]\n",
      " [ 20.40816327 -35.34797566   3.46938776]\n",
      " [-28.86150127 -28.86150127   3.46938776]\n",
      " [-28.86150127  28.86150127   3.46938776]]\n"
     ]
    }
   ],
   "source": [
    "r = np.full((4,1),0.0245)\n",
    "theta_deg = np.array([[30, 150, 225, 315]]).T\n",
    "theta_rads = np.radians(theta_deg)\n",
    "l = np.full((4,1),0.085)\n",
    "T_wheel =  -1/r * -np.concatenate((np.sin(theta_rads), np.cos(theta_rads), l), axis = 1) \n",
    "print(T_wheel)"
   ]
  },
  {
   "attachments": {},
   "cell_type": "markdown",
   "id": "1fbe5420",
   "metadata": {},
   "source": [
    "## Wheel to Bot Conversion"
   ]
  },
  {
   "attachments": {},
   "cell_type": "markdown",
   "id": "96fc041d",
   "metadata": {},
   "source": [
    "Pseudo-inverse of $T_{Wheel}$ is the $T_{Bot}$\n",
    "$$\n",
    "    \\textbf{T}_{Bot} = \\textbf{T}^{\\dagger}_{Wheel}\n",
    "$$"
   ]
  },
  {
   "cell_type": "code",
   "execution_count": 4,
   "id": "73ee47b1",
   "metadata": {},
   "outputs": [
    {
     "name": "stdout",
     "output_type": "stream",
     "text": [
      "[[ 0.01014823  0.01014823 -0.01014823 -0.01014823]\n",
      " [ 0.00848705 -0.00848705 -0.00692965  0.00692965]\n",
      " [ 0.08442216  0.08442216  0.05969548  0.05969548]]\n"
     ]
    }
   ],
   "source": [
    "T_bot = np.linalg.pinv(T_wheel)\n",
    "print(T_bot)"
   ]
  },
  {
   "attachments": {},
   "cell_type": "markdown",
   "id": "61d7f820",
   "metadata": {},
   "source": [
    "## Robot Velocity to Wheel Velocity Example"
   ]
  },
  {
   "cell_type": "code",
   "execution_count": 5,
   "id": "10f7fe5f",
   "metadata": {},
   "outputs": [
    {
     "name": "stdout",
     "output_type": "stream",
     "text": [
      "[[ 20.40816327  35.34797566   0.        ]\n",
      " [ 20.40816327 -35.34797566   0.        ]\n",
      " [-28.86150127 -28.86150127   0.        ]\n",
      " [-28.86150127  28.86150127   0.        ]]\n"
     ]
    }
   ],
   "source": [
    "v_example = np.array([1, 1, 0]).T\n",
    "v_wheel_example = T_wheel*v_example\n",
    "print(v_wheel_example)"
   ]
  },
  {
   "attachments": {},
   "cell_type": "markdown",
   "id": "d1cbf8aa",
   "metadata": {},
   "source": [
    "# Kalman Filter"
   ]
  },
  {
   "cell_type": "code",
   "execution_count": 6,
   "id": "a592e2d6",
   "metadata": {},
   "outputs": [
    {
     "name": "stdout",
     "output_type": "stream",
     "text": [
      "0.11868238913561441\n",
      "0.002443460952792061\n"
     ]
    }
   ],
   "source": [
    "process_noise = 0.05 # State noise for unmodeled influences, TODO unclear where is comes from\n",
    "encoder_sampling_freq = 100 # Hz\n",
    "encoder_noise_rads = np.radians(0.068) # rads for AS5047P encoder RMS output noise (1 sigma)\n",
    "encoder_noise = encoder_noise_rads/(1/encoder_sampling_freq) # rads/s TODO unclear if this is valid\n",
    "gryo_noise_noise_density = 0.014  # deg/s/√Hz for BMI085 Noise density (typ.)\n",
    "gyro_sampling_freq = 100 # Hz\n",
    "gyro_noise = np.radians(gryo_noise_noise_density) * np.sqrt(gyro_sampling_freq) # in rad/s\n",
    "\n",
    "intial_covariance = 0.1 # Picked at random TODO\n",
    "\n",
    "print(encoder_noise)\n",
    "print(gyro_noise)"
   ]
  },
  {
   "cell_type": "code",
   "execution_count": null,
   "id": "08c0ca56",
   "metadata": {},
   "outputs": [],
   "source": []
  }
 ],
 "metadata": {
  "kernelspec": {
   "display_name": "Python 3 (ipykernel)",
   "language": "python",
   "name": "python3"
  },
  "language_info": {
   "codemirror_mode": {
    "name": "ipython",
    "version": 3
   },
   "file_extension": ".py",
   "mimetype": "text/x-python",
   "name": "python",
   "nbconvert_exporter": "python",
   "pygments_lexer": "ipython3",
   "version": "3.9.7"
  }
 },
 "nbformat": 4,
 "nbformat_minor": 5
}
