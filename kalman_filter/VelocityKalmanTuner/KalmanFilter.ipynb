{
 "cells": [
  {
   "cell_type": "code",
   "execution_count": 6,
   "id": "0de1fcd4",
   "metadata": {},
   "outputs": [],
   "source": [
    "import numpy as np\n",
    "from numpy.linalg import inv"
   ]
  },
  {
   "cell_type": "code",
   "execution_count": 7,
   "id": "52771a79",
   "metadata": {},
   "outputs": [],
   "source": [
    "!pip install -r requirements.txt"
   ]
  },
  {
   "attachments": {},
   "cell_type": "markdown",
   "id": "bb2a29b8",
   "metadata": {},
   "source": [
    "# Reference Frame"
   ]
  },
  {
   "attachments": {},
   "cell_type": "markdown",
   "id": "c60eef46",
   "metadata": {},
   "source": [
    "To make sure things are consistent, the reference frame of the robot will match the reference frame of ROS.\n",
    "\n",
    "\n",
    "**Position for positive x will be up (North), positive y will be to the left (West), and positive z will be out of the page.**\n"
   ]
  },
  {
   "cell_type": "markdown",
   "id": "ad7ed0e0",
   "metadata": {},
   "source": [
    "![alternatvie text](reference_frame.png)"
   ]
  },
  {
   "attachments": {},
   "cell_type": "markdown",
   "id": "2d05891a",
   "metadata": {},
   "source": [
    "# Linear Dynamics\n",
    "$$\\dot{x} = A\\vec{x} + B\\vec{u} \\\\\n",
    " \\vec{y} = C\\vec{x}$$"
   ]
  },
  {
   "attachments": {},
   "cell_type": "markdown",
   "id": "61e6383e",
   "metadata": {},
   "source": [
    "$\\vec{x}$ is the state variables. $v_{x}, v_{y}$ is the world linear velocity of the robot in m/s, $\\omega$ is the world reference frame angular velocity of the robot around the z-axis in rad/s.\n",
    "$$\n",
    "\\vec{x} = \\begin{bmatrix}\n",
    "v_{x} \\\\ \n",
    "v_{y} \\\\\n",
    "\\omega_{z}\n",
    "\\end{bmatrix}\n",
    "$$"
   ]
  },
  {
   "attachments": {},
   "cell_type": "markdown",
   "id": "182a0a10",
   "metadata": {},
   "source": [
    "$\\vec{u}$ is the input vector. $\\omega_{iFL}, \\omega_{iBL}, \\omega_{iBR}, \\omega_{iFR}$ is commanded angular velocity of the front left, front right, back left, back right wheels of the robot (will refer to those positions for the remainder).\n",
    "$$\n",
    "\\vec{u} = \\begin{bmatrix}\n",
    "\\omega_{iFL} \\\\\n",
    "\\omega_{iBL} \\\\\n",
    "\\omega_{iBR} \\\\\n",
    "\\omega_{iFR}\n",
    "\\end{bmatrix}\n",
    "$$"
   ]
  },
  {
   "attachments": {},
   "cell_type": "markdown",
   "id": "646063b6",
   "metadata": {},
   "source": [
    "$\\vec{y}$ is the measured observation vector. $\\omega_{oFL},\\omega_{oBL},\\omega_{oBR},\\omega_{oFR}$ is the angular velocity for wheels of the robot in rad/s. $\\omega_{gyro}$ is the angular velocity of the robot in robot reference frame measured by the gyro in rad/s.\n",
    "\n",
    "$$\n",
    "\\vec{y} = \\begin{bmatrix}\n",
    "\\omega_{oFL} \\\\\n",
    "\\omega_{oBL} \\\\\n",
    "\\omega_{oBR} \\\\\n",
    "\\omega_{oFR} \\\\\n",
    "\\omega_{\\text{gyro}}\n",
    "\\end{bmatrix}\n",
    "$$"
   ]
  },
  {
   "attachments": {},
   "cell_type": "markdown",
   "id": "6b682a09",
   "metadata": {},
   "source": [
    "## Body to Wheel Conversion"
   ]
  },
  {
   "attachments": {},
   "cell_type": "markdown",
   "id": "e1a4f0da",
   "metadata": {},
   "source": [
    "We need to make a transformation from the robot reference frame to the wheel reference frame\n",
    "$r_{FL}, r_{BL}, r_{BR}, r_{FR}$ is the wheel radius in m.\n",
    "\n",
    "$\\theta_{FL}, \\theta_{BL}, \\theta_{BR}, \\theta_{FR}$ is the angle offset from the center in rads.\n",
    "\n",
    "$l_{FL}, l_{BL}, l_{BR}, l_{FR}$ is the distance to center in m.\n",
    "\n",
    "Based on work here: https://www.mdpi.com/2076-3417/12/12/5798\n",
    "$$\n",
    "    \\textbf{T}_{Wheel} = \n",
    "    \\begin{bmatrix}\n",
    "        -cos(\\theta_{FL})/r_{FL} & -sin(\\theta_{FL})/r_{FL} & l_{FL}/r_{FL} \\\\\n",
    "        -cos(\\theta_{BL})/r_{BL} & -sin(\\theta_{BL})/r_{BL} & l_{BL}/r_{BL} \\\\\n",
    "        -cos(\\theta_{BR})/r_{BR} & -sin(\\theta_{BR})/r_{BR} & l_{BR}/r_{BR} \\\\\n",
    "        -cos(\\theta_{FR})/r_{FR} & -sin(\\theta_{FR})/r_{FR} & l_{FR}/r_{FR} \\\\\n",
    "    \\end{bmatrix}\n",
    "$$"
   ]
  },
  {
   "attachments": {},
   "cell_type": "markdown",
   "id": "1fbe5420",
   "metadata": {},
   "source": [
    "## Wheel to Bot Conversion"
   ]
  },
  {
   "attachments": {},
   "cell_type": "markdown",
   "id": "96fc041d",
   "metadata": {},
   "source": [
    "Pseudo-inverse of $T_{Wheel}$ is the $T_{Body}$\n",
    "$$\n",
    "    \\textbf{T}_{Body} = \\textbf{T}^{\\dagger}_{Wheel} = (\\textbf{T}_{Wheel}^{T} \\cdot \\textbf{T}_{Wheel})^{-1} \\textbf{T}_{Wheel}^{T}\n",
    "$$"
   ]
  },
  {
   "attachments": {},
   "cell_type": "markdown",
   "id": "d1cbf8aa",
   "metadata": {},
   "source": [
    "# Kalman Filter"
   ]
  },
  {
   "cell_type": "code",
   "execution_count": 8,
   "id": "a592e2d6",
   "metadata": {},
   "outputs": [
    {
     "name": "stdout",
     "output_type": "stream",
     "text": [
      "Encoder Noise: 0.11868238913561441\n",
      "Gyro Noise: 1.2217304763960308e-07\n"
     ]
    }
   ],
   "source": [
    "process_noise = 0.05 # State noise for unmodeled influences, TODO unclear where is comes from\n",
    "encoder_sampling_freq = 100 # Hz\n",
    "encoder_noise_rads = np.radians(0.068) # rads for AS5047P encoder RMS output noise (1 sigma)\n",
    "encoder_noise = encoder_noise_rads/(1/encoder_sampling_freq) # rads/s TODO unclear if this is valid\n",
    "gryo_noise_noise_density = 0.007  # 0.014 deg/s/√Hz for BMI085 Noise density (typ.), 0.007 deg/sec/√Hz for BMI323\n",
    "gyro_sampling_freq = 100 # Hz\n",
    "gyro_noise = np.radians(gryo_noise_noise_density * np.sqrt(gyro_sampling_freq)) * 1/10000 # in rad/s\n",
    "\n",
    "intial_covariance = 0.1 # Picked at random TODO\n",
    "\n",
    "print(\"Encoder Noise: \" + str(encoder_noise))\n",
    "print(\"Gyro Noise: \" + str(gyro_noise))"
   ]
  },
  {
   "cell_type": "code",
   "execution_count": 9,
   "id": "e5930e3b",
   "metadata": {},
   "outputs": [
    {
     "name": "stdout",
     "output_type": "stream",
     "text": [
      "A = \n",
      "[[0. 0. 0.]\n",
      " [0. 0. 0.]\n",
      " [0. 0. 0.]]\n",
      "B = \n",
      "[[-0.0103923  -0.00848528  0.00848528  0.0103923 ]\n",
      " [ 0.01242641 -0.01242641 -0.01242641  0.01242641]\n",
      " [ 0.1079459   0.07632928  0.07632928  0.1079459 ]]\n",
      "H = \n",
      "[[-28.86751346  16.66666667   2.71333333]\n",
      " [-23.57022604 -23.57022604   2.71333333]\n",
      " [ 23.57022604 -23.57022604   2.71333333]\n",
      " [ 28.86751346  16.66666667   2.71333333]\n",
      " [  0.           0.           1.        ]]\n",
      "D = \n",
      "[[0. 0. 0. 0.]\n",
      " [0. 0. 0. 0.]\n",
      " [0. 0. 0. 0.]\n",
      " [0. 0. 0. 0.]\n",
      " [0. 0. 0. 0.]]\n",
      "P = \n",
      "[[0.1 0.  0. ]\n",
      " [0.  0.1 0. ]\n",
      " [0.  0.  0.1]]\n",
      "Q = \n",
      "[[1.5e-05 0.0e+00 0.0e+00]\n",
      " [0.0e+00 1.5e-05 0.0e+00]\n",
      " [0.0e+00 0.0e+00 1.5e-05]]\n",
      "R = \n",
      "[[1.18682389e-05 0.00000000e+00 0.00000000e+00 0.00000000e+00\n",
      "  0.00000000e+00]\n",
      " [0.00000000e+00 1.18682389e-05 0.00000000e+00 0.00000000e+00\n",
      "  0.00000000e+00]\n",
      " [0.00000000e+00 0.00000000e+00 1.18682389e-05 0.00000000e+00\n",
      "  0.00000000e+00]\n",
      " [0.00000000e+00 0.00000000e+00 0.00000000e+00 1.18682389e-05\n",
      "  0.00000000e+00]\n",
      " [0.00000000e+00 0.00000000e+00 0.00000000e+00 0.00000000e+00\n",
      "  1.22173048e-07]]\n",
      "K_ss = \n",
      "[[-1.03893464e-02 -8.48286582e-03  8.48286582e-03  1.03893464e-02\n",
      "   2.38985084e-16]\n",
      " [ 1.05435163e-02 -1.37476841e-02 -1.37476841e-02  1.05435163e-02\n",
      "   1.72484046e-02]\n",
      " [ 2.44024306e-02  1.72580844e-02  1.72580844e-02  2.44024306e-02\n",
      "   7.67708263e-01]]\n",
      "K = \n",
      "[[-1.03923044e-02 -8.48528101e-03  8.48528101e-03  1.03923044e-02\n",
      "  -8.82095698e-11]\n",
      " [ 1.05519794e-02 -1.37518257e-02 -1.37518257e-02  1.05519794e-02\n",
      "   1.73644781e-02]\n",
      " [ 2.45564740e-02  1.73640497e-02  1.73640497e-02  2.45564740e-02\n",
      "   7.72510348e-01]]\n"
     ]
    }
   ],
   "source": [
    "import numpy as np\n",
    "import math\n",
    "from numpy.linalg import inv\n",
    "from KalmanFilter import KF\n",
    "from SteadyStateKalmanFilter import SS_KF\n",
    "from RobotModel import RobotModel\n",
    "\n",
    "model = RobotModel()\n",
    "observer_type = \"SS_KF\"\n",
    "\n",
    "A, B, H, D, P, Q, R = model.generate_model().values()\n",
    "kalmanFilter = KF(\n",
    "    x_hat_init=np.zeros((3, 1)), A=A, B=B, H=H, D=D, P=P, Q=Q, R=R\n",
    ")\n",
    "ss_kalmanFilter = SS_KF(\n",
    "    x_hat_init=np.zeros((3, 1)), A=A, B=B, H=H, D=D, Q=Q, R=R\n",
    ")\n",
    "observer_list = [kalmanFilter, ss_kalmanFilter]\n",
    "observer = ss_kalmanFilter\n",
    "\n",
    "print(\"A = \")\n",
    "print(A)\n",
    "\n",
    "print(\"B = \")\n",
    "print(B)\n",
    "\n",
    "print(\"H = \")\n",
    "print(H)\n",
    "\n",
    "print(\"D = \")\n",
    "print(D)\n",
    "\n",
    "print(\"P = \")\n",
    "print(P)\n",
    "\n",
    "print(\"Q = \")\n",
    "print(Q)\n",
    "\n",
    "print(\"R = \")\n",
    "print(R)\n",
    "\n",
    "print(\"K_ss = \")\n",
    "print(ss_kalmanFilter.gains.K)\n",
    "\n",
    "print(\"K = \")\n",
    "print(kalmanFilter.gains.K)"
   ]
  },
  {
   "attachments": {},
   "cell_type": "markdown",
   "id": "ed256401",
   "metadata": {},
   "source": [
    "Code below taken from RoboRacing-firmware (written by Peter Wilson)"
   ]
  },
  {
   "cell_type": "code",
   "execution_count": 10,
   "id": "69747e6d",
   "metadata": {},
   "outputs": [
    {
     "ename": "FileNotFoundError",
     "evalue": "[Errno 2] No such file or directory: 'software_commanded_vel.csv'",
     "output_type": "error",
     "traceback": [
      "\u001b[1;31m---------------------------------------------------------------------------\u001b[0m",
      "\u001b[1;31mFileNotFoundError\u001b[0m                         Traceback (most recent call last)",
      "Cell \u001b[1;32mIn[10], line 4\u001b[0m\n\u001b[0;32m      2\u001b[0m \u001b[38;5;28;01mimport\u001b[39;00m \u001b[38;5;21;01mcsv\u001b[39;00m\n\u001b[0;32m      3\u001b[0m ns_per_sec \u001b[38;5;241m=\u001b[39m \u001b[38;5;241m1e9\u001b[39m\n\u001b[1;32m----> 4\u001b[0m \u001b[38;5;28;01mwith\u001b[39;00m \u001b[38;5;28;43mopen\u001b[39;49m\u001b[43m(\u001b[49m\u001b[38;5;124;43m'\u001b[39;49m\u001b[38;5;124;43msoftware_commanded_vel.csv\u001b[39;49m\u001b[38;5;124;43m'\u001b[39;49m\u001b[43m)\u001b[49m \u001b[38;5;28;01mas\u001b[39;00m velocity_csv:\n\u001b[0;32m      5\u001b[0m     velocity_reader \u001b[38;5;241m=\u001b[39m csv\u001b[38;5;241m.\u001b[39mreader(velocity_csv, delimiter\u001b[38;5;241m=\u001b[39m\u001b[38;5;124m'\u001b[39m\u001b[38;5;124m,\u001b[39m\u001b[38;5;124m'\u001b[39m)\n\u001b[0;32m      6\u001b[0m     \u001b[38;5;28mnext\u001b[39m(velocity_reader)   \u001b[38;5;66;03m#Skip first line, the headers\u001b[39;00m\n",
      "File \u001b[1;32mc:\\Users\\jspal\\GitHub\\a-team\\hw-analysis\\.venv\\lib\\site-packages\\IPython\\core\\interactiveshell.py:284\u001b[0m, in \u001b[0;36m_modified_open\u001b[1;34m(file, *args, **kwargs)\u001b[0m\n\u001b[0;32m    277\u001b[0m \u001b[38;5;28;01mif\u001b[39;00m file \u001b[38;5;129;01min\u001b[39;00m {\u001b[38;5;241m0\u001b[39m, \u001b[38;5;241m1\u001b[39m, \u001b[38;5;241m2\u001b[39m}:\n\u001b[0;32m    278\u001b[0m     \u001b[38;5;28;01mraise\u001b[39;00m \u001b[38;5;167;01mValueError\u001b[39;00m(\n\u001b[0;32m    279\u001b[0m         \u001b[38;5;124mf\u001b[39m\u001b[38;5;124m\"\u001b[39m\u001b[38;5;124mIPython won\u001b[39m\u001b[38;5;124m'\u001b[39m\u001b[38;5;124mt let you open fd=\u001b[39m\u001b[38;5;132;01m{\u001b[39;00mfile\u001b[38;5;132;01m}\u001b[39;00m\u001b[38;5;124m by default \u001b[39m\u001b[38;5;124m\"\u001b[39m\n\u001b[0;32m    280\u001b[0m         \u001b[38;5;124m\"\u001b[39m\u001b[38;5;124mas it is likely to crash IPython. If you know what you are doing, \u001b[39m\u001b[38;5;124m\"\u001b[39m\n\u001b[0;32m    281\u001b[0m         \u001b[38;5;124m\"\u001b[39m\u001b[38;5;124myou can use builtins\u001b[39m\u001b[38;5;124m'\u001b[39m\u001b[38;5;124m open.\u001b[39m\u001b[38;5;124m\"\u001b[39m\n\u001b[0;32m    282\u001b[0m     )\n\u001b[1;32m--> 284\u001b[0m \u001b[38;5;28;01mreturn\u001b[39;00m io_open(file, \u001b[38;5;241m*\u001b[39margs, \u001b[38;5;241m*\u001b[39m\u001b[38;5;241m*\u001b[39mkwargs)\n",
      "\u001b[1;31mFileNotFoundError\u001b[0m: [Errno 2] No such file or directory: 'software_commanded_vel.csv'"
     ]
    }
   ],
   "source": [
    "#Read in the CSV of commanded velocities\n",
    "import csv\n",
    "ns_per_sec = 1e9\n",
    "with open('software_commanded_vel.csv') as velocity_csv:\n",
    "    velocity_reader = csv.reader(velocity_csv, delimiter=',')\n",
    "    next(velocity_reader)   #Skip first line, the headers\n",
    "    software_velocity_times_commands = np.asarray([(int(line[0]), float(line[1]), float(line[2])) for line in velocity_reader])\n",
    "software_velocity_times_commands[:,0] /= ns_per_sec     #Convert times from ns to seconds\n",
    "software_velocity_times_commands[:,0] -= software_velocity_times_commands[0,0]   #Make time start at 0\n",
    "\n",
    "print(software_velocity_times_commands)\n",
    "\n",
    "#Remember the last time and index we were ordered to fe\n",
    "last_gotten_idx = 0\n",
    "last_gotten_time = 0\n",
    "def get_software_vel(time):\n",
    "    '''\n",
    "    Gets the last command software sent at the given time.\n",
    "    Remembers the index of the last time it was called for increased efficiency in case time is monotonically increasing\n",
    "    '''\n",
    "    global last_gotten_idx\n",
    "    global last_gotten_time\n",
    "\n",
    "    if time > last_gotten_time:\n",
    "        idx = last_gotten_idx\n",
    "    else:\n",
    "        idx = 0\n",
    "\n",
    "    while software_velocity_times_commands[idx + 1, 0] < time:\n",
    "        idx += 1\n",
    "\n",
    "    last_gotten_idx = idx\n",
    "    last_gotten_time = time\n",
    "    return software_velocity_times_commands[idx, 1]\n",
    "\n",
    "print(get_software_vel(0))"
   ]
  },
  {
   "cell_type": "code",
   "execution_count": null,
   "id": "08c0ca56",
   "metadata": {},
   "outputs": [],
   "source": [
    "dt = 5e-5  # s. Timestep\n",
    "end_time = 10 # s\n",
    "# TODO determine transmission period, ros bag freq, and software to robot transmission delay\n",
    "sw_transmission_period = 0.003 # s. How often software transmits commands\n",
    "sw_to_robot_transmission_delay = 0.003 # s. How long it takes from ROS setting a velocity to getting to the robot\n",
    "sw_to_robot_transmission_delay_index = int(sw_to_robot_transmission_delay/dt)\n",
    "\n",
    "# On-robot controller parameters (so we can tweak them)\n",
    "robot_controller_loop_time = 5e-3   # s. How frequently the on robot controller runs\n",
    "\n",
    "#Define data logging arrays\n",
    "times, dt = np.linspace(0, end_time, num = round(end_time/dt), retstep=True)  #array of times\n",
    "actual_state_arr = np.zeros(3,1,len(times)) # x_k -> [v_x, v_y, Omega]\n",
    "estimated_state_arr = np.zeros(len(times)) # \\hat{x}\n",
    "sw_target_state = np.zeros(3,1,len(times)) # x sent from software\n",
    "robot_target_state = np.zeros(3,1,len(times)) # x when received on robot\n",
    "command_input_arr = np.zeros(4,1,len(times)) # u -> [omega_ifl, omega_ibl, omega_ibr, omega_ifr]\n",
    "measured_state_arr = np.zeros(5,1,len(times)) # y -> [omega_ofl, omega_obl, omega_obr, omega_ofr, omega_gyro]\n",
    "robot_controller_loop_time = 0.010 # s. How often the robot motion controller is running\n",
    "\n",
    "#Now write the simulation code\n",
    "command_wheel_velocities = [0,0,0,0]\n",
    "last_controller_execution = 0\n",
    "\n",
    "software_vel_cmd_delay = np.zeros(actual_state_arr.shape)\n",
    "\n",
    "model = RobotModel()\n",
    "observer_type = \"SS_KF\"\n",
    "\n",
    "A, B, H, D, P, Q, R = model.generate_model().values()\n",
    "kalmanFilter = KF(\n",
    "    x_hat_init=np.zeros((3, 1)), A=A, B=B, H=H, D=D, P=P, Q=Q, R=R\n",
    ")\n",
    "ss_kalmanFilter = SS_KF(\n",
    "    x_hat_init=np.zeros((3, 1)), A=A, B=B, H=H, D=D, Q=Q, R=R\n",
    ")\n",
    "observer_list = [kalmanFilter, ss_kalmanFilter]\n",
    "observer = ss_kalmanFilter\n",
    "\n",
    "\n",
    "for i in range(len(times)):\n",
    "    # Time is from perspective of the PC, but independent of ROS\n",
    "    time = times[i]\n",
    "\n",
    "    # Find software's current velocity command\n",
    "    sw_target_state = get_software_vel(time)\n",
    "\n",
    "    # Delay to account for software transmission\n",
    "    if (i > sw_to_robot_transmission_delay_index):\n",
    "        robot_target_state = sw_target_state[i - sw_to_robot_transmission_delay_index]\n",
    "\n",
    "\n",
    "    # Execute the estimator\n",
    "    if time - last_controller_execution > robot_controller_loop_time:\n",
    "        timestep = time - last_controller_execution\n",
    "\n",
    "        kalmanFilter.step(robot_target_state)\n",
    "        #estimate speed\n",
    "        kalman_filter_est_vel = estimate_vel(timestep, current_reading, command_brakes, num_encoder_ticks_remembered_by_code)\n",
    "        num_encoder_ticks_remembered_by_code = 0\n",
    "\n",
    "        last_controller_execution = time\n",
    "\n",
    "    #Bound the control signals\n",
    "    true_voltage, true_motor_current = get_true_voltage_current(car_true_vel, command_voltage)\n",
    "    true_brake_force = get_true_braking_force(car_true_vel, sent_brake_command)\n",
    "\n",
    "    #Car physics:\n",
    "    car_true_position += dt*car_true_vel\n",
    "    car_true_vel += dt*(-true_gamma_speed*car_true_vel + true_gamma_volt*true_voltage - true_gamma_brake*true_brake_force)\n",
    "\n",
    "    #encoder callback interrupt fires\n",
    "    if total_num_encoder_ticks/magnets_per_m < car_true_position:\n",
    "        total_num_encoder_ticks += 1\n",
    "        num_encoder_ticks_remembered_by_code += 1\n",
    "\n",
    "    #Now do the logs\n",
    "    vel_kart_arr[i] = car_true_vel\n",
    "    estimated_vel_arr[i] = get_speed()\n",
    "    filtered_vel_arr[i] = get_curr_target_speed()\n",
    "    software_command_velocities_at_timestep_arr[i] = software_vel_cmd\n",
    "    voltage_cmd_arr[i] = command_voltage\n",
    "    brake_cmd_arr[i] = command_brakes\n",
    "    voltage_realized_arr[i] = true_voltage\n",
    "    brake_realized_arr[i] = true_brake_force\n",
    "    motor_current_arr[i] = true_motor_current\n",
    "    error_integral_arr[i] = get_error_integral()"
   ]
  }
 ],
 "metadata": {
  "kernelspec": {
   "display_name": ".venv",
   "language": "python",
   "name": "python3"
  },
  "language_info": {
   "codemirror_mode": {
    "name": "ipython",
    "version": 3
   },
   "file_extension": ".py",
   "mimetype": "text/x-python",
   "name": "python",
   "nbconvert_exporter": "python",
   "pygments_lexer": "ipython3",
   "version": "3.9.7"
  }
 },
 "nbformat": 4,
 "nbformat_minor": 5
}
